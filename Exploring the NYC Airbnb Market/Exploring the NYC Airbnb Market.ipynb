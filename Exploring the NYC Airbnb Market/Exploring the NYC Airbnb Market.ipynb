{
 "cells": [
  {
   "cell_type": "markdown",
   "id": "d5ca7e6f",
   "metadata": {},
   "source": [
    "# 1.Importing the data\n",
    "     we will take a look at the NYC Airbnb market by combining data from multiple file types like .csv, .tsv, .xlsx.\n",
    "        Our goals are to analyze, and answer key questions including:\n",
    "        \n",
    "       - What is the average price, per night, of an Airbnb listing in NYC?\n",
    "       - How does the average price of an Airbnb listing, per month, compare to the private rental market?\n",
    "       - How many adverts are for private rooms?\n",
    "       - How do Airbnb listing prices compare across the five NYC boroughs?"
   ]
  },
  {
   "cell_type": "code",
   "execution_count": 1,
   "id": "4520386d",
   "metadata": {},
   "outputs": [],
   "source": [
    "import pandas as pd\n",
    "import numpy as np\n",
    "import seaborn as sns\n",
    "import matplotlib.pyplot as plt\n",
    "import datetime as dt"
   ]
  },
  {
   "cell_type": "code",
   "execution_count": 25,
   "id": "2e73ef08",
   "metadata": {},
   "outputs": [],
   "source": [
    "# Load airbnb_price.csv, prices\n",
    "prices = pd.read_csv(r\"C:\\Users\\karim\\Downloads\\airbnb_price.csv\")\n",
    "\n",
    "# Load airbnb_last_review.tsv, reviews\n",
    "reviews = pd.read_csv(r\"C:\\Users\\karim\\Downloads\\airbnb_last_review.tsv\", sep='\\t')\n",
    "\n",
    "# Load airbnb_room_type.xlsx, room_type\n",
    "room_type = pd.read_excel(r\"C:\\Users\\karim\\Downloads\\airbnb_room_type (1).xlsx\")"
   ]
  },
  {
   "cell_type": "code",
   "execution_count": 26,
   "id": "4014439a",
   "metadata": {},
   "outputs": [
    {
     "name": "stdout",
     "output_type": "stream",
     "text": [
      "   listing_id        price                nbhood_full\n",
      "0        2595  225 dollars         Manhattan, Midtown\n",
      "1        3831   89 dollars     Brooklyn, Clinton Hill\n",
      "2        5099  200 dollars     Manhattan, Murray Hill\n",
      "3        5178   79 dollars  Manhattan, Hell's Kitchen\n",
      "4        5238  150 dollars       Manhattan, Chinatown\n",
      "\n",
      "\n",
      "   listing_id    host_name   last_review\n",
      "0        2595     Jennifer   May 21 2019\n",
      "1        3831  LisaRoxanne  July 05 2019\n",
      "2        5099        Chris  June 22 2019\n",
      "3        5178     Shunichi  June 24 2019\n",
      "4        5238          Ben  June 09 2019\n",
      "\n",
      "\n",
      "   listing_id                                description        room_type\n",
      "0        2595                      Skylit Midtown Castle  Entire home/apt\n",
      "1        3831            Cozy Entire Floor of Brownstone  Entire home/apt\n",
      "2        5099  Large Cozy 1 BR Apartment In Midtown East  Entire home/apt\n",
      "3        5178            Large Furnished Room Near B'way     private room\n",
      "4        5238         Cute & Cozy Lower East Side 1 bdrm  Entire home/apt\n"
     ]
    }
   ],
   "source": [
    "print(prices.head())\n",
    "print('\\n')\n",
    "print(reviews.head())\n",
    "print('\\n')\n",
    "print(room_type.head())"
   ]
  },
  {
   "cell_type": "markdown",
   "id": "42d0489e",
   "metadata": {},
   "source": [
    "# 2.Cleaning the price column\n",
    "    to answer first question the average price per night, we need to detect the type of price column \n",
    "    and clean it as per needed:\n",
    "    1- Wrong type\n",
    "    2- contains dollars string (not needed in our calculations)\n",
    "    3- some id's prices = Zero (not needed in our calculations)\n",
    "    4- we need to compare monthly rental to prive market ( need to add new column )\n",
    "    "
   ]
  },
  {
   "cell_type": "code",
   "execution_count": 27,
   "id": "fa436f2a",
   "metadata": {},
   "outputs": [
    {
     "data": {
      "text/plain": [
       "0    225 dollars\n",
       "1     89 dollars\n",
       "2    200 dollars\n",
       "3     79 dollars\n",
       "4    150 dollars\n",
       "Name: price, dtype: object"
      ]
     },
     "execution_count": 27,
     "metadata": {},
     "output_type": "execute_result"
    }
   ],
   "source": [
    "prices['price'].head()"
   ]
  },
  {
   "cell_type": "code",
   "execution_count": 28,
   "id": "b619926c",
   "metadata": {
    "scrolled": true
   },
   "outputs": [],
   "source": [
    "# 1st scenario\n",
    "prices['price'] = prices['price'].str.replace(' dollars','').astype('int')\n",
    "\n",
    "# 2nd scenario\n",
    "prices['price'] = prices['price'].str.rstrip(' dollars').astype('int')"
   ]
  },
  {
   "cell_type": "code",
   "execution_count": 29,
   "id": "e778587a",
   "metadata": {},
   "outputs": [
    {
     "data": {
      "text/plain": [
       "0    225\n",
       "1     89\n",
       "2    200\n",
       "3     79\n",
       "4    150\n",
       "Name: price, dtype: int32"
      ]
     },
     "execution_count": 29,
     "metadata": {},
     "output_type": "execute_result"
    }
   ],
   "source": [
    "prices['price'].head()"
   ]
  },
  {
   "cell_type": "code",
   "execution_count": 30,
   "id": "e05079cd",
   "metadata": {},
   "outputs": [
    {
     "data": {
      "text/plain": [
       "count    25209.000000\n",
       "mean       141.777936\n",
       "std        147.349137\n",
       "min          0.000000\n",
       "25%         69.000000\n",
       "50%        105.000000\n",
       "75%        175.000000\n",
       "max       7500.000000\n",
       "Name: price, dtype: float64"
      ]
     },
     "execution_count": 30,
     "metadata": {},
     "output_type": "execute_result"
    }
   ],
   "source": [
    "prices['price'].describe()"
   ]
  },
  {
   "cell_type": "markdown",
   "id": "415f93f5",
   "metadata": {},
   "source": [
    "there are some outliers including a maximum price of $7,500 per night! \n",
    "Some of listings are actually showing as free.\n",
    "we will drop them before calculating the average "
   ]
  },
  {
   "cell_type": "code",
   "execution_count": 31,
   "id": "7c1ea0df",
   "metadata": {},
   "outputs": [],
   "source": [
    "# Subset prices for listings costing $0, free\n",
    "free = prices[prices['price'] == 0]"
   ]
  },
  {
   "cell_type": "code",
   "execution_count": 32,
   "id": "29e53ab6",
   "metadata": {},
   "outputs": [
    {
     "data": {
      "text/html": [
       "<div>\n",
       "<style scoped>\n",
       "    .dataframe tbody tr th:only-of-type {\n",
       "        vertical-align: middle;\n",
       "    }\n",
       "\n",
       "    .dataframe tbody tr th {\n",
       "        vertical-align: top;\n",
       "    }\n",
       "\n",
       "    .dataframe thead th {\n",
       "        text-align: right;\n",
       "    }\n",
       "</style>\n",
       "<table border=\"1\" class=\"dataframe\">\n",
       "  <thead>\n",
       "    <tr style=\"text-align: right;\">\n",
       "      <th></th>\n",
       "      <th>listing_id</th>\n",
       "      <th>price</th>\n",
       "      <th>nbhood_full</th>\n",
       "    </tr>\n",
       "  </thead>\n",
       "  <tbody>\n",
       "    <tr>\n",
       "      <th>10861</th>\n",
       "      <td>20333471</td>\n",
       "      <td>0</td>\n",
       "      <td>Bronx, East Morrisania</td>\n",
       "    </tr>\n",
       "    <tr>\n",
       "      <th>10958</th>\n",
       "      <td>20523843</td>\n",
       "      <td>0</td>\n",
       "      <td>Brooklyn, Bushwick</td>\n",
       "    </tr>\n",
       "    <tr>\n",
       "      <th>11023</th>\n",
       "      <td>20639628</td>\n",
       "      <td>0</td>\n",
       "      <td>Brooklyn, Bedford-Stuyvesant</td>\n",
       "    </tr>\n",
       "    <tr>\n",
       "      <th>11024</th>\n",
       "      <td>20639792</td>\n",
       "      <td>0</td>\n",
       "      <td>Brooklyn, Bedford-Stuyvesant</td>\n",
       "    </tr>\n",
       "    <tr>\n",
       "      <th>11025</th>\n",
       "      <td>20639914</td>\n",
       "      <td>0</td>\n",
       "      <td>Brooklyn, Bedford-Stuyvesant</td>\n",
       "    </tr>\n",
       "    <tr>\n",
       "      <th>11577</th>\n",
       "      <td>21291569</td>\n",
       "      <td>0</td>\n",
       "      <td>Brooklyn, Bushwick</td>\n",
       "    </tr>\n",
       "    <tr>\n",
       "      <th>11589</th>\n",
       "      <td>21304320</td>\n",
       "      <td>0</td>\n",
       "      <td>Brooklyn, Bushwick</td>\n",
       "    </tr>\n",
       "  </tbody>\n",
       "</table>\n",
       "</div>"
      ],
      "text/plain": [
       "       listing_id  price                   nbhood_full\n",
       "10861    20333471      0        Bronx, East Morrisania\n",
       "10958    20523843      0            Brooklyn, Bushwick\n",
       "11023    20639628      0  Brooklyn, Bedford-Stuyvesant\n",
       "11024    20639792      0  Brooklyn, Bedford-Stuyvesant\n",
       "11025    20639914      0  Brooklyn, Bedford-Stuyvesant\n",
       "11577    21291569      0            Brooklyn, Bushwick\n",
       "11589    21304320      0            Brooklyn, Bushwick"
      ]
     },
     "execution_count": 32,
     "metadata": {},
     "output_type": "execute_result"
    }
   ],
   "source": [
    "free"
   ]
  },
  {
   "cell_type": "code",
   "execution_count": 35,
   "id": "a2d7af0a",
   "metadata": {},
   "outputs": [],
   "source": [
    "# Update prices by removing all free listings from prices\n",
    "prices= prices.drop(free.index)"
   ]
  },
  {
   "cell_type": "code",
   "execution_count": 48,
   "id": "912d4920",
   "metadata": {},
   "outputs": [
    {
     "name": "stdout",
     "output_type": "stream",
     "text": [
      "The average price per night for an Airbnb listing in NYC is $141.82.\n"
     ]
    }
   ],
   "source": [
    "# Calculate the average price, avg_price\n",
    "avg_price = prices[\"price\"].mean()\n",
    "print(\"The average price per night for an Airbnb listing in NYC is ${:.2f}.\".format(avg_price))"
   ]
  },
  {
   "cell_type": "code",
   "execution_count": null,
   "id": "749f6c52",
   "metadata": {},
   "outputs": [],
   "source": [
    "# to compare our average price to private market \n",
    "# We will need to add new column showing rent per month to each listings"
   ]
  },
  {
   "cell_type": "code",
   "execution_count": 49,
   "id": "ae27f9ce",
   "metadata": {},
   "outputs": [],
   "source": [
    "# Add a new column to the prices DataFrame, price_per_month\n",
    "prices[\"price_per_month\"] = prices[\"price\"] * 365 / 12"
   ]
  },
  {
   "cell_type": "code",
   "execution_count": 53,
   "id": "ebbf4dd6",
   "metadata": {},
   "outputs": [],
   "source": [
    "# Calculate average_price_per_month\n",
    "average_price_per_month = round(prices[\"price_per_month\"].mean(),2)"
   ]
  },
  {
   "cell_type": "code",
   "execution_count": 54,
   "id": "c1535c78",
   "metadata": {},
   "outputs": [
    {
     "name": "stdout",
     "output_type": "stream",
     "text": [
      "airbnb monthly costs are $4313.61, while in the private market you would pay $3,100.00.\n"
     ]
    }
   ],
   "source": [
    "# Compare Airbnb and rental market\n",
    "print(\"airbnb monthly costs are ${}, while in the private market you would pay {}.\".format(average_price_per_month, \"$3,100.00\"))"
   ]
  },
  {
   "cell_type": "markdown",
   "id": "9b40323d",
   "metadata": {},
   "source": [
    "# 3.Cleaning the room type column\n",
    "    diving deeper into the room_type column to find out the breakdown of listings by type of room. \n",
    "    we can see some problems already:\n",
    "    1- Inconsisteny of inputs\n",
    "    2- using category data type for better analysis"
   ]
  },
  {
   "cell_type": "code",
   "execution_count": 56,
   "id": "58ba37c9",
   "metadata": {},
   "outputs": [],
   "source": [
    "# Convert the room_type column to lowercase\n",
    "room_type[\"room_type\"] = room_type[\"room_type\"].str.lower()\n",
    "\n",
    "# Update the room_type column to category data type\n",
    "room_type[\"room_type\"] = room_type[\"room_type\"].astype(\"category\")\n",
    "\n",
    "# Create the variable room_frequencies\n",
    "room_frequencies = room_type[\"room_type\"].value_counts()"
   ]
  },
  {
   "cell_type": "code",
   "execution_count": 57,
   "id": "4306f1f3",
   "metadata": {},
   "outputs": [
    {
     "data": {
      "text/plain": [
       "room_type\n",
       "entire home/apt    13266\n",
       "private room       11356\n",
       "shared room          587\n",
       "Name: count, dtype: int64"
      ]
     },
     "execution_count": 57,
     "metadata": {},
     "output_type": "execute_result"
    }
   ],
   "source": [
    "room_frequencies"
   ]
  },
  {
   "cell_type": "code",
   "execution_count": 59,
   "id": "116b80f9",
   "metadata": {},
   "outputs": [
    {
     "data": {
      "image/png": "[encoded data removed]",
      "text/plain": [
       "<Figure size 640x480 with 1 Axes>"
      ]
     },
     "metadata": {},
     "output_type": "display_data"
    }
   ],
   "source": [
    "#plot the counts of different room types\n",
    "ax = sns.countplot(data=room_type,x='room_type')\n",
    "ax.bar_label(ax.containers[0])\n",
    "plt.title(\"The Counts of different room types\");"
   ]
  },
  {
   "cell_type": "markdown",
   "id": "f6d1d49e",
   "metadata": {},
   "source": [
    "# 4.Set review Dataframe"
   ]
  },
  {
   "cell_type": "code",
   "execution_count": 60,
   "id": "fe20a611",
   "metadata": {},
   "outputs": [
    {
     "name": "stdout",
     "output_type": "stream",
     "text": [
      "The latest Airbnb review is 2019-07-09, the earliest review is 2019-01-01\n"
     ]
    }
   ],
   "source": [
    "# Change the data type of the last_review column to datetime\n",
    "reviews[\"last_review\"] = pd.to_datetime(reviews[\"last_review\"] )\n",
    "\n",
    "# Create first_reviewed, the earliest review date\n",
    "first_reviewed = reviews[\"last_review\"].dt.date.min()\n",
    "\n",
    "# Create last_reviewed, the most recent review date\n",
    "last_reviewed = reviews[\"last_review\"].dt.date.max()\n",
    "\n",
    "# Print the oldest and newest reviews from the DataFrame\n",
    "print(\"The latest Airbnb review is {}, the earliest review is {}\".format(last_reviewed, first_reviewed)) "
   ]
  },
  {
   "cell_type": "markdown",
   "id": "fed0f14c",
   "metadata": {},
   "source": [
    "# 5.Join The DataFrames\n",
    "    Now we've extracted the information needed, we will merge the three DataFrames to make any future analysis easier to conduct. Once we have joined the data, we will remove any observations with missing values and check for duplicates"
   ]
  },
  {
   "cell_type": "code",
   "execution_count": 62,
   "id": "2d457195",
   "metadata": {},
   "outputs": [
    {
     "name": "stdout",
     "output_type": "stream",
     "text": [
      "There are 0 duplicates in the DataFrame.\n"
     ]
    }
   ],
   "source": [
    "# Merge prices and room_types to create rooms_and_prices\n",
    "rooms_and_prices = prices.merge(room_type, how=\"outer\", on=\"listing_id\")\n",
    "\n",
    "# Merge rooms_and_prices with the reviews DataFrame to create airbnb_merged\n",
    "airbnb_merged = rooms_and_prices.merge(reviews, how=\"outer\", on=\"listing_id\")\n",
    "\n",
    "# Drop missing values from airbnb_merged\n",
    "airbnb_merged.dropna(inplace=True)\n",
    "\n",
    "# Check if there are any duplicate values\n",
    "print(\"There are {} duplicates in the DataFrame.\".format(airbnb_merged.duplicated().sum()))"
   ]
  },
  {
   "cell_type": "code",
   "execution_count": 63,
   "id": "8fe7c202",
   "metadata": {},
   "outputs": [
    {
     "data": {
      "text/html": [
       "<div>\n",
       "<style scoped>\n",
       "    .dataframe tbody tr th:only-of-type {\n",
       "        vertical-align: middle;\n",
       "    }\n",
       "\n",
       "    .dataframe tbody tr th {\n",
       "        vertical-align: top;\n",
       "    }\n",
       "\n",
       "    .dataframe thead th {\n",
       "        text-align: right;\n",
       "    }\n",
       "</style>\n",
       "<table border=\"1\" class=\"dataframe\">\n",
       "  <thead>\n",
       "    <tr style=\"text-align: right;\">\n",
       "      <th></th>\n",
       "      <th>listing_id</th>\n",
       "      <th>price</th>\n",
       "      <th>nbhood_full</th>\n",
       "      <th>price_per_month</th>\n",
       "      <th>description</th>\n",
       "      <th>room_type</th>\n",
       "      <th>host_name</th>\n",
       "      <th>last_review</th>\n",
       "    </tr>\n",
       "  </thead>\n",
       "  <tbody>\n",
       "    <tr>\n",
       "      <th>0</th>\n",
       "      <td>2595</td>\n",
       "      <td>225.0</td>\n",
       "      <td>Manhattan, Midtown</td>\n",
       "      <td>6843.750000</td>\n",
       "      <td>Skylit Midtown Castle</td>\n",
       "      <td>entire home/apt</td>\n",
       "      <td>Jennifer</td>\n",
       "      <td>2019-05-21</td>\n",
       "    </tr>\n",
       "    <tr>\n",
       "      <th>1</th>\n",
       "      <td>3831</td>\n",
       "      <td>89.0</td>\n",
       "      <td>Brooklyn, Clinton Hill</td>\n",
       "      <td>2707.083333</td>\n",
       "      <td>Cozy Entire Floor of Brownstone</td>\n",
       "      <td>entire home/apt</td>\n",
       "      <td>LisaRoxanne</td>\n",
       "      <td>2019-07-05</td>\n",
       "    </tr>\n",
       "    <tr>\n",
       "      <th>2</th>\n",
       "      <td>5099</td>\n",
       "      <td>200.0</td>\n",
       "      <td>Manhattan, Murray Hill</td>\n",
       "      <td>6083.333333</td>\n",
       "      <td>Large Cozy 1 BR Apartment In Midtown East</td>\n",
       "      <td>entire home/apt</td>\n",
       "      <td>Chris</td>\n",
       "      <td>2019-06-22</td>\n",
       "    </tr>\n",
       "    <tr>\n",
       "      <th>3</th>\n",
       "      <td>5178</td>\n",
       "      <td>79.0</td>\n",
       "      <td>Manhattan, Hell's Kitchen</td>\n",
       "      <td>2402.916667</td>\n",
       "      <td>Large Furnished Room Near B'way</td>\n",
       "      <td>private room</td>\n",
       "      <td>Shunichi</td>\n",
       "      <td>2019-06-24</td>\n",
       "    </tr>\n",
       "    <tr>\n",
       "      <th>4</th>\n",
       "      <td>5238</td>\n",
       "      <td>150.0</td>\n",
       "      <td>Manhattan, Chinatown</td>\n",
       "      <td>4562.500000</td>\n",
       "      <td>Cute &amp; Cozy Lower East Side 1 bdrm</td>\n",
       "      <td>entire home/apt</td>\n",
       "      <td>Ben</td>\n",
       "      <td>2019-06-09</td>\n",
       "    </tr>\n",
       "  </tbody>\n",
       "</table>\n",
       "</div>"
      ],
      "text/plain": [
       "   listing_id  price                nbhood_full  price_per_month  \\\n",
       "0        2595  225.0         Manhattan, Midtown      6843.750000   \n",
       "1        3831   89.0     Brooklyn, Clinton Hill      2707.083333   \n",
       "2        5099  200.0     Manhattan, Murray Hill      6083.333333   \n",
       "3        5178   79.0  Manhattan, Hell's Kitchen      2402.916667   \n",
       "4        5238  150.0       Manhattan, Chinatown      4562.500000   \n",
       "\n",
       "                                 description        room_type    host_name  \\\n",
       "0                      Skylit Midtown Castle  entire home/apt     Jennifer   \n",
       "1            Cozy Entire Floor of Brownstone  entire home/apt  LisaRoxanne   \n",
       "2  Large Cozy 1 BR Apartment In Midtown East  entire home/apt        Chris   \n",
       "3            Large Furnished Room Near B'way     private room     Shunichi   \n",
       "4         Cute & Cozy Lower East Side 1 bdrm  entire home/apt          Ben   \n",
       "\n",
       "  last_review  \n",
       "0  2019-05-21  \n",
       "1  2019-07-05  \n",
       "2  2019-06-22  \n",
       "3  2019-06-24  \n",
       "4  2019-06-09  "
      ]
     },
     "execution_count": 63,
     "metadata": {},
     "output_type": "execute_result"
    }
   ],
   "source": [
    "airbnb_merged.head()"
   ]
  },
  {
   "cell_type": "markdown",
   "id": "f1c0d4a8",
   "metadata": {},
   "source": [
    "# 6.Analyze\n",
    "    Now we have combined all data into a single DataFrame, we will turn our attention to understanding the difference in listing prices between New York City boroughs."
   ]
  },
  {
   "cell_type": "code",
   "execution_count": 83,
   "id": "66a75065",
   "metadata": {},
   "outputs": [],
   "source": [
    "# Extract information from the nbhood_full column and store as a new column, borough\n",
    "airbnb_merged[\"borough\"] = airbnb_merged[\"nbhood_full\"].str.partition()[0].str.rstrip(',')"
   ]
  },
  {
   "cell_type": "code",
   "execution_count": 84,
   "id": "d0d160e4",
   "metadata": {},
   "outputs": [
    {
     "data": {
      "text/plain": [
       "0        Manhattan\n",
       "1         Brooklyn\n",
       "2        Manhattan\n",
       "3        Manhattan\n",
       "4        Manhattan\n",
       "           ...    \n",
       "25197    Manhattan\n",
       "25198       Queens\n",
       "25199       Staten\n",
       "25200        Bronx\n",
       "25201     Brooklyn\n",
       "Name: borough, Length: 25184, dtype: object"
      ]
     },
     "execution_count": 84,
     "metadata": {},
     "output_type": "execute_result"
    }
   ],
   "source": [
    "airbnb_merged[\"borough\"]"
   ]
  },
  {
   "cell_type": "code",
   "execution_count": 85,
   "id": "0e6865d7",
   "metadata": {},
   "outputs": [],
   "source": [
    "# Group by borough and calculate summary statistics\n",
    "boroughs = airbnb_merged.groupby(\"borough\")[\"price\"].agg([\"sum\", \"mean\", \"median\", \"count\"])"
   ]
  },
  {
   "cell_type": "code",
   "execution_count": 90,
   "id": "e5109e38",
   "metadata": {},
   "outputs": [
    {
     "data": {
      "text/html": [
       "<div>\n",
       "<style scoped>\n",
       "    .dataframe tbody tr th:only-of-type {\n",
       "        vertical-align: middle;\n",
       "    }\n",
       "\n",
       "    .dataframe tbody tr th {\n",
       "        vertical-align: top;\n",
       "    }\n",
       "\n",
       "    .dataframe thead th {\n",
       "        text-align: right;\n",
       "    }\n",
       "</style>\n",
       "<table border=\"1\" class=\"dataframe\">\n",
       "  <thead>\n",
       "    <tr style=\"text-align: right;\">\n",
       "      <th></th>\n",
       "      <th>sum</th>\n",
       "      <th>mean</th>\n",
       "      <th>median</th>\n",
       "      <th>count</th>\n",
       "    </tr>\n",
       "    <tr>\n",
       "      <th>borough</th>\n",
       "      <th></th>\n",
       "      <th></th>\n",
       "      <th></th>\n",
       "      <th></th>\n",
       "    </tr>\n",
       "  </thead>\n",
       "  <tbody>\n",
       "    <tr>\n",
       "      <th>Manhattan</th>\n",
       "      <td>1898417.0</td>\n",
       "      <td>184.04</td>\n",
       "      <td>149.0</td>\n",
       "      <td>10315</td>\n",
       "    </tr>\n",
       "    <tr>\n",
       "      <th>Brooklyn</th>\n",
       "      <td>1275250.0</td>\n",
       "      <td>122.02</td>\n",
       "      <td>95.0</td>\n",
       "      <td>10451</td>\n",
       "    </tr>\n",
       "    <tr>\n",
       "      <th>Queens</th>\n",
       "      <td>320715.0</td>\n",
       "      <td>92.83</td>\n",
       "      <td>70.0</td>\n",
       "      <td>3455</td>\n",
       "    </tr>\n",
       "    <tr>\n",
       "      <th>Staten</th>\n",
       "      <td>22974.0</td>\n",
       "      <td>86.04</td>\n",
       "      <td>71.0</td>\n",
       "      <td>267</td>\n",
       "    </tr>\n",
       "    <tr>\n",
       "      <th>Bronx</th>\n",
       "      <td>55156.0</td>\n",
       "      <td>79.25</td>\n",
       "      <td>65.0</td>\n",
       "      <td>696</td>\n",
       "    </tr>\n",
       "  </tbody>\n",
       "</table>\n",
       "</div>"
      ],
      "text/plain": [
       "                 sum    mean  median  count\n",
       "borough                                    \n",
       "Manhattan  1898417.0  184.04   149.0  10315\n",
       "Brooklyn   1275250.0  122.02    95.0  10451\n",
       "Queens      320715.0   92.83    70.0   3455\n",
       "Staten       22974.0   86.04    71.0    267\n",
       "Bronx        55156.0   79.25    65.0    696"
      ]
     },
     "execution_count": 90,
     "metadata": {},
     "output_type": "execute_result"
    }
   ],
   "source": [
    "# Round boroughs to 2 decimal places, and sort by mean in descending order\n",
    "boroughs = round(boroughs,2).sort_values(\"mean\", ascending=False)\n",
    "boroughs"
   ]
  },
  {
   "cell_type": "markdown",
   "id": "8c242b10",
   "metadata": {},
   "source": [
    "# 7.Price range by borough\n",
    "    The above output gives us a summary of prices for listings across the 5 boroughs. In this final task we would like to categorize listings based on whether they fall into specific price ranges, and view this by borough."
   ]
  },
  {
   "cell_type": "code",
   "execution_count": 91,
   "id": "4d9b1c55",
   "metadata": {},
   "outputs": [],
   "source": [
    "# Create labels for the price range, label_names\n",
    "label_names = [\"Budget\", \"Average\", \"Expensive\", \"Exravagant\"]\n",
    "\n",
    "# Create the label ranges, ranges\n",
    "ranges = [0, 69, 175, 350, np.inf]\n",
    "\n",
    "# Insert new column, price_range, into DataFrame\n",
    "airbnb_merged[\"price_range\"] = pd.cut(airbnb_merged[\"price\"], bins=ranges, labels=label_names)\n"
   ]
  },
  {
   "cell_type": "code",
   "execution_count": 92,
   "id": "c7a7f6d4",
   "metadata": {},
   "outputs": [
    {
     "data": {
      "text/plain": [
       "0        Expensive\n",
       "1          Average\n",
       "2        Expensive\n",
       "3          Average\n",
       "4          Average\n",
       "           ...    \n",
       "25197      Average\n",
       "25198       Budget\n",
       "25199    Expensive\n",
       "25200      Average\n",
       "25201       Budget\n",
       "Name: price_range, Length: 25184, dtype: category\n",
       "Categories (4, object): ['Budget' < 'Average' < 'Expensive' < 'Exravagant']"
      ]
     },
     "execution_count": 92,
     "metadata": {},
     "output_type": "execute_result"
    }
   ],
   "source": [
    "airbnb_merged[\"price_range\"]"
   ]
  },
  {
   "cell_type": "code",
   "execution_count": 93,
   "id": "2fa6249d",
   "metadata": {},
   "outputs": [
    {
     "name": "stdout",
     "output_type": "stream",
     "text": [
      "price_range  borough  \n",
      "Budget       Bronx         381\n",
      "             Brooklyn     3194\n",
      "             Manhattan    1148\n",
      "             Queens       1631\n",
      "             Staten        124\n",
      "Average      Bronx         285\n",
      "             Brooklyn     5532\n",
      "             Manhattan    5285\n",
      "             Queens       1505\n",
      "             Staten        123\n",
      "Expensive    Bronx          25\n",
      "             Brooklyn     1466\n",
      "             Manhattan    3072\n",
      "             Queens        291\n",
      "             Staten         20\n",
      "Exravagant   Bronx           5\n",
      "             Brooklyn      259\n",
      "             Manhattan     810\n",
      "             Queens         28\n",
      "             Staten          0\n",
      "Name: price_range, dtype: int64\n"
     ]
    }
   ],
   "source": [
    "# Calculate borough and price_range frequencies, prices_by_borough\n",
    "prices_by_borough = airbnb_merged.groupby([\"price_range\",\"borough\"])[\"price_range\"].count()\n",
    "print(prices_by_borough)"
   ]
  },
  {
   "cell_type": "code",
   "execution_count": 96,
   "id": "b65530de",
   "metadata": {},
   "outputs": [
    {
     "data": {
      "image/png": "[encoded data removed]",
      "text/plain": [
       "<Figure size 1000x800 with 1 Axes>"
      ]
     },
     "metadata": {},
     "output_type": "display_data"
    }
   ],
   "source": [
    "#plot a count plot of the boroughs regarding the different price ranges\n",
    "plt.figure(figsize=[10, 8])\n",
    "\n",
    "ax = sns.countplot(data=airbnb_merged, x=\"borough\", hue=\"price_range\", palette=sns.color_palette())\n",
    "for container in ax.containers:\n",
    "    ax.bar_label(container, )\n",
    "plt.title(\"Counts of Price levels through the boroughs\");"
   ]
  },
  {
   "cell_type": "code",
   "execution_count": null,
   "id": "5b2c4249",
   "metadata": {},
   "outputs": [],
   "source": []
  }
 ],
 "metadata": {
  "kernelspec": {
   "display_name": "Python 3 (ipykernel)",
   "language": "python",
   "name": "python3"
  },
  "language_info": {
   "codemirror_mode": {
    "name": "ipython",
    "version": 3
   },
   "file_extension": ".py",
   "mimetype": "text/x-python",
   "name": "python",
   "nbconvert_exporter": "python",
   "pygments_lexer": "ipython3",
   "version": "3.11.5"
  }
 },
 "nbformat": 4,
 "nbformat_minor": 5
}
