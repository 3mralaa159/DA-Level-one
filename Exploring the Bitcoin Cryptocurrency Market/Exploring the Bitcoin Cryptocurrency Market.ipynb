{
 "cells": [
  {
   "cell_type": "markdown",
   "id": "93bc2f7b",
   "metadata": {},
   "source": [
    "# Explore Bitcoin Profile"
   ]
  },
  {
   "cell_type": "code",
   "execution_count": 9,
   "id": "f0eeb7f4",
   "metadata": {},
   "outputs": [],
   "source": [
    "import pandas as pd\n",
    "import matplotlib.pyplot as plt"
   ]
  },
  {
   "cell_type": "code",
   "execution_count": 31,
   "id": "ded364a2",
   "metadata": {},
   "outputs": [],
   "source": [
    "# Reading datasets\n",
    "df = pd.read_csv(r\"C:\\Users\\karim\\Desktop\\coinmarketcap_06122017.csv\",index_col=0)"
   ]
  },
  {
   "cell_type": "code",
   "execution_count": 32,
   "id": "32ec51d4",
   "metadata": {},
   "outputs": [
    {
     "data": {
      "text/html": [
       "<div>\n",
       "<style scoped>\n",
       "    .dataframe tbody tr th:only-of-type {\n",
       "        vertical-align: middle;\n",
       "    }\n",
       "\n",
       "    .dataframe tbody tr th {\n",
       "        vertical-align: top;\n",
       "    }\n",
       "\n",
       "    .dataframe thead th {\n",
       "        text-align: right;\n",
       "    }\n",
       "</style>\n",
       "<table border=\"1\" class=\"dataframe\">\n",
       "  <thead>\n",
       "    <tr style=\"text-align: right;\">\n",
       "      <th></th>\n",
       "      <th>24h_volume_usd</th>\n",
       "      <th>available_supply</th>\n",
       "      <th>id</th>\n",
       "      <th>last_updated</th>\n",
       "      <th>market_cap_usd</th>\n",
       "      <th>max_supply</th>\n",
       "      <th>name</th>\n",
       "      <th>percent_change_1h</th>\n",
       "      <th>percent_change_24h</th>\n",
       "      <th>percent_change_7d</th>\n",
       "      <th>price_btc</th>\n",
       "      <th>price_usd</th>\n",
       "      <th>rank</th>\n",
       "      <th>symbol</th>\n",
       "      <th>total_supply</th>\n",
       "    </tr>\n",
       "  </thead>\n",
       "  <tbody>\n",
       "    <tr>\n",
       "      <th>0</th>\n",
       "      <td>9.007640e+09</td>\n",
       "      <td>1.672352e+07</td>\n",
       "      <td>bitcoin</td>\n",
       "      <td>1512549554</td>\n",
       "      <td>2.130493e+11</td>\n",
       "      <td>2.100000e+07</td>\n",
       "      <td>Bitcoin</td>\n",
       "      <td>0.12</td>\n",
       "      <td>7.33</td>\n",
       "      <td>17.45</td>\n",
       "      <td>1.000000</td>\n",
       "      <td>12739.500000</td>\n",
       "      <td>1</td>\n",
       "      <td>BTC</td>\n",
       "      <td>1.672352e+07</td>\n",
       "    </tr>\n",
       "    <tr>\n",
       "      <th>1</th>\n",
       "      <td>1.551330e+09</td>\n",
       "      <td>9.616537e+07</td>\n",
       "      <td>ethereum</td>\n",
       "      <td>1512549553</td>\n",
       "      <td>4.352945e+10</td>\n",
       "      <td>NaN</td>\n",
       "      <td>Ethereum</td>\n",
       "      <td>-0.18</td>\n",
       "      <td>-3.93</td>\n",
       "      <td>-7.33</td>\n",
       "      <td>0.036177</td>\n",
       "      <td>452.652000</td>\n",
       "      <td>2</td>\n",
       "      <td>ETH</td>\n",
       "      <td>9.616537e+07</td>\n",
       "    </tr>\n",
       "    <tr>\n",
       "      <th>2</th>\n",
       "      <td>1.111350e+09</td>\n",
       "      <td>1.684044e+07</td>\n",
       "      <td>bitcoin-cash</td>\n",
       "      <td>1512549578</td>\n",
       "      <td>2.529585e+10</td>\n",
       "      <td>2.100000e+07</td>\n",
       "      <td>Bitcoin Cash</td>\n",
       "      <td>1.65</td>\n",
       "      <td>-5.51</td>\n",
       "      <td>-4.75</td>\n",
       "      <td>0.120050</td>\n",
       "      <td>1502.090000</td>\n",
       "      <td>3</td>\n",
       "      <td>BCH</td>\n",
       "      <td>1.684044e+07</td>\n",
       "    </tr>\n",
       "    <tr>\n",
       "      <th>3</th>\n",
       "      <td>2.936090e+09</td>\n",
       "      <td>2.779530e+09</td>\n",
       "      <td>iota</td>\n",
       "      <td>1512549571</td>\n",
       "      <td>1.475225e+10</td>\n",
       "      <td>2.779530e+09</td>\n",
       "      <td>IOTA</td>\n",
       "      <td>-2.38</td>\n",
       "      <td>83.35</td>\n",
       "      <td>255.82</td>\n",
       "      <td>0.000424</td>\n",
       "      <td>5.307460</td>\n",
       "      <td>4</td>\n",
       "      <td>MIOTA</td>\n",
       "      <td>2.779530e+09</td>\n",
       "    </tr>\n",
       "    <tr>\n",
       "      <th>4</th>\n",
       "      <td>2.315050e+08</td>\n",
       "      <td>3.873915e+10</td>\n",
       "      <td>ripple</td>\n",
       "      <td>1512549541</td>\n",
       "      <td>9.365343e+09</td>\n",
       "      <td>1.000000e+11</td>\n",
       "      <td>Ripple</td>\n",
       "      <td>0.56</td>\n",
       "      <td>-3.70</td>\n",
       "      <td>-14.79</td>\n",
       "      <td>0.000019</td>\n",
       "      <td>0.241754</td>\n",
       "      <td>5</td>\n",
       "      <td>XRP</td>\n",
       "      <td>9.999309e+10</td>\n",
       "    </tr>\n",
       "  </tbody>\n",
       "</table>\n",
       "</div>"
      ],
      "text/plain": [
       "   24h_volume_usd  available_supply            id  last_updated  \\\n",
       "0    9.007640e+09      1.672352e+07       bitcoin    1512549554   \n",
       "1    1.551330e+09      9.616537e+07      ethereum    1512549553   \n",
       "2    1.111350e+09      1.684044e+07  bitcoin-cash    1512549578   \n",
       "3    2.936090e+09      2.779530e+09          iota    1512549571   \n",
       "4    2.315050e+08      3.873915e+10        ripple    1512549541   \n",
       "\n",
       "   market_cap_usd    max_supply          name  percent_change_1h  \\\n",
       "0    2.130493e+11  2.100000e+07       Bitcoin               0.12   \n",
       "1    4.352945e+10           NaN      Ethereum              -0.18   \n",
       "2    2.529585e+10  2.100000e+07  Bitcoin Cash               1.65   \n",
       "3    1.475225e+10  2.779530e+09          IOTA              -2.38   \n",
       "4    9.365343e+09  1.000000e+11        Ripple               0.56   \n",
       "\n",
       "   percent_change_24h  percent_change_7d  price_btc     price_usd  rank  \\\n",
       "0                7.33              17.45   1.000000  12739.500000     1   \n",
       "1               -3.93              -7.33   0.036177    452.652000     2   \n",
       "2               -5.51              -4.75   0.120050   1502.090000     3   \n",
       "3               83.35             255.82   0.000424      5.307460     4   \n",
       "4               -3.70             -14.79   0.000019      0.241754     5   \n",
       "\n",
       "  symbol  total_supply  \n",
       "0    BTC  1.672352e+07  \n",
       "1    ETH  9.616537e+07  \n",
       "2    BCH  1.684044e+07  \n",
       "3  MIOTA  2.779530e+09  \n",
       "4    XRP  9.999309e+10  "
      ]
     },
     "execution_count": 32,
     "metadata": {},
     "output_type": "execute_result"
    }
   ],
   "source": [
    "df.head()"
   ]
  },
  {
   "cell_type": "code",
   "execution_count": 33,
   "id": "bbaeff53",
   "metadata": {},
   "outputs": [],
   "source": [
    "market_cap = df[['id','market_cap_usd']]"
   ]
  },
  {
   "cell_type": "code",
   "execution_count": 34,
   "id": "687520b1",
   "metadata": {},
   "outputs": [
    {
     "data": {
      "text/plain": [
       "id                1326\n",
       "market_cap_usd    1031\n",
       "dtype: int64"
      ]
     },
     "execution_count": 34,
     "metadata": {},
     "output_type": "execute_result"
    }
   ],
   "source": [
    "# Clean data \n",
    "market_cap.count()"
   ]
  },
  {
   "cell_type": "code",
   "execution_count": 39,
   "id": "acf5a072",
   "metadata": {},
   "outputs": [
    {
     "data": {
      "text/plain": [
       "295"
      ]
     },
     "execution_count": 39,
     "metadata": {},
     "output_type": "execute_result"
    }
   ],
   "source": [
    "market_cap.market_cap_usd.isna().sum()"
   ]
  },
  {
   "cell_type": "markdown",
   "id": "5608ed18",
   "metadata": {},
   "source": [
    "some cryptocurrencies have no known market capitalization, this is represented by NaN in the data, and NaNs are not counted by count(). These cryptocurrencies are of little interest to us in this analysis"
   ]
  },
  {
   "cell_type": "code",
   "execution_count": 58,
   "id": "16a0b1c2",
   "metadata": {},
   "outputs": [],
   "source": [
    "# 1\n",
    "one = market_cap.market_cap_usd.dropna()"
   ]
  },
  {
   "cell_type": "code",
   "execution_count": 59,
   "id": "cb50672b",
   "metadata": {},
   "outputs": [
    {
     "data": {
      "text/plain": [
       "1031"
      ]
     },
     "execution_count": 59,
     "metadata": {},
     "output_type": "execute_result"
    }
   ],
   "source": [
    "one.count()"
   ]
  },
  {
   "cell_type": "code",
   "execution_count": 55,
   "id": "3361e8ce",
   "metadata": {},
   "outputs": [],
   "source": [
    "# or 2 \n",
    "df = market_cap[market_cap['market_cap_usd'] > 0]"
   ]
  },
  {
   "cell_type": "code",
   "execution_count": 56,
   "id": "c45f4cef",
   "metadata": {},
   "outputs": [
    {
     "data": {
      "text/plain": [
       "id                1031\n",
       "market_cap_usd    1031\n",
       "dtype: int64"
      ]
     },
     "execution_count": 56,
     "metadata": {},
     "output_type": "execute_result"
    }
   ],
   "source": [
    "df.count()"
   ]
  },
  {
   "cell_type": "code",
   "execution_count": 57,
   "id": "da6db04c",
   "metadata": {},
   "outputs": [
    {
     "data": {
      "text/html": [
       "<div>\n",
       "<style scoped>\n",
       "    .dataframe tbody tr th:only-of-type {\n",
       "        vertical-align: middle;\n",
       "    }\n",
       "\n",
       "    .dataframe tbody tr th {\n",
       "        vertical-align: top;\n",
       "    }\n",
       "\n",
       "    .dataframe thead th {\n",
       "        text-align: right;\n",
       "    }\n",
       "</style>\n",
       "<table border=\"1\" class=\"dataframe\">\n",
       "  <thead>\n",
       "    <tr style=\"text-align: right;\">\n",
       "      <th></th>\n",
       "      <th>id</th>\n",
       "      <th>market_cap_usd</th>\n",
       "    </tr>\n",
       "  </thead>\n",
       "  <tbody>\n",
       "    <tr>\n",
       "      <th>0</th>\n",
       "      <td>bitcoin</td>\n",
       "      <td>2.130493e+11</td>\n",
       "    </tr>\n",
       "    <tr>\n",
       "      <th>1</th>\n",
       "      <td>ethereum</td>\n",
       "      <td>4.352945e+10</td>\n",
       "    </tr>\n",
       "    <tr>\n",
       "      <th>2</th>\n",
       "      <td>bitcoin-cash</td>\n",
       "      <td>2.529585e+10</td>\n",
       "    </tr>\n",
       "    <tr>\n",
       "      <th>3</th>\n",
       "      <td>iota</td>\n",
       "      <td>1.475225e+10</td>\n",
       "    </tr>\n",
       "    <tr>\n",
       "      <th>4</th>\n",
       "      <td>ripple</td>\n",
       "      <td>9.365343e+09</td>\n",
       "    </tr>\n",
       "    <tr>\n",
       "      <th>...</th>\n",
       "      <td>...</td>\n",
       "      <td>...</td>\n",
       "    </tr>\n",
       "    <tr>\n",
       "      <th>1026</th>\n",
       "      <td>future-digital-currency</td>\n",
       "      <td>2.510000e+02</td>\n",
       "    </tr>\n",
       "    <tr>\n",
       "      <th>1027</th>\n",
       "      <td>environ</td>\n",
       "      <td>1.360000e+02</td>\n",
       "    </tr>\n",
       "    <tr>\n",
       "      <th>1028</th>\n",
       "      <td>caliphcoin</td>\n",
       "      <td>1.000000e+02</td>\n",
       "    </tr>\n",
       "    <tr>\n",
       "      <th>1029</th>\n",
       "      <td>falcoin</td>\n",
       "      <td>2.300000e+01</td>\n",
       "    </tr>\n",
       "    <tr>\n",
       "      <th>1030</th>\n",
       "      <td>applecoin-apw</td>\n",
       "      <td>1.000000e+01</td>\n",
       "    </tr>\n",
       "  </tbody>\n",
       "</table>\n",
       "<p>1031 rows × 2 columns</p>\n",
       "</div>"
      ],
      "text/plain": [
       "                           id  market_cap_usd\n",
       "0                     bitcoin    2.130493e+11\n",
       "1                    ethereum    4.352945e+10\n",
       "2                bitcoin-cash    2.529585e+10\n",
       "3                        iota    1.475225e+10\n",
       "4                      ripple    9.365343e+09\n",
       "...                       ...             ...\n",
       "1026  future-digital-currency    2.510000e+02\n",
       "1027                  environ    1.360000e+02\n",
       "1028               caliphcoin    1.000000e+02\n",
       "1029                  falcoin    2.300000e+01\n",
       "1030            applecoin-apw    1.000000e+01\n",
       "\n",
       "[1031 rows x 2 columns]"
      ]
     },
     "execution_count": 57,
     "metadata": {},
     "output_type": "execute_result"
    }
   ],
   "source": [
    "df"
   ]
  },
  {
   "cell_type": "markdown",
   "id": "84af218d",
   "metadata": {},
   "source": [
    "# CryptoCurr Comparison "
   ]
  },
  {
   "cell_type": "code",
   "execution_count": 60,
   "id": "51c0bb4d",
   "metadata": {},
   "outputs": [],
   "source": [
    "# Selecting the first 10 rows and setting the index\n",
    "cap10 = df.head(10).set_index(df.id[:10])"
   ]
  },
  {
   "cell_type": "code",
   "execution_count": 61,
   "id": "ee3cc075",
   "metadata": {},
   "outputs": [
    {
     "data": {
      "text/html": [
       "<div>\n",
       "<style scoped>\n",
       "    .dataframe tbody tr th:only-of-type {\n",
       "        vertical-align: middle;\n",
       "    }\n",
       "\n",
       "    .dataframe tbody tr th {\n",
       "        vertical-align: top;\n",
       "    }\n",
       "\n",
       "    .dataframe thead th {\n",
       "        text-align: right;\n",
       "    }\n",
       "</style>\n",
       "<table border=\"1\" class=\"dataframe\">\n",
       "  <thead>\n",
       "    <tr style=\"text-align: right;\">\n",
       "      <th></th>\n",
       "      <th>id</th>\n",
       "      <th>market_cap_usd</th>\n",
       "    </tr>\n",
       "    <tr>\n",
       "      <th>id</th>\n",
       "      <th></th>\n",
       "      <th></th>\n",
       "    </tr>\n",
       "  </thead>\n",
       "  <tbody>\n",
       "    <tr>\n",
       "      <th>bitcoin</th>\n",
       "      <td>bitcoin</td>\n",
       "      <td>2.130493e+11</td>\n",
       "    </tr>\n",
       "    <tr>\n",
       "      <th>ethereum</th>\n",
       "      <td>ethereum</td>\n",
       "      <td>4.352945e+10</td>\n",
       "    </tr>\n",
       "    <tr>\n",
       "      <th>bitcoin-cash</th>\n",
       "      <td>bitcoin-cash</td>\n",
       "      <td>2.529585e+10</td>\n",
       "    </tr>\n",
       "    <tr>\n",
       "      <th>iota</th>\n",
       "      <td>iota</td>\n",
       "      <td>1.475225e+10</td>\n",
       "    </tr>\n",
       "    <tr>\n",
       "      <th>ripple</th>\n",
       "      <td>ripple</td>\n",
       "      <td>9.365343e+09</td>\n",
       "    </tr>\n",
       "    <tr>\n",
       "      <th>dash</th>\n",
       "      <td>dash</td>\n",
       "      <td>5.794076e+09</td>\n",
       "    </tr>\n",
       "    <tr>\n",
       "      <th>litecoin</th>\n",
       "      <td>litecoin</td>\n",
       "      <td>5.634498e+09</td>\n",
       "    </tr>\n",
       "    <tr>\n",
       "      <th>bitcoin-gold</th>\n",
       "      <td>bitcoin-gold</td>\n",
       "      <td>4.920065e+09</td>\n",
       "    </tr>\n",
       "    <tr>\n",
       "      <th>monero</th>\n",
       "      <td>monero</td>\n",
       "      <td>4.331688e+09</td>\n",
       "    </tr>\n",
       "    <tr>\n",
       "      <th>cardano</th>\n",
       "      <td>cardano</td>\n",
       "      <td>3.231420e+09</td>\n",
       "    </tr>\n",
       "  </tbody>\n",
       "</table>\n",
       "</div>"
      ],
      "text/plain": [
       "                        id  market_cap_usd\n",
       "id                                        \n",
       "bitcoin            bitcoin    2.130493e+11\n",
       "ethereum          ethereum    4.352945e+10\n",
       "bitcoin-cash  bitcoin-cash    2.529585e+10\n",
       "iota                  iota    1.475225e+10\n",
       "ripple              ripple    9.365343e+09\n",
       "dash                  dash    5.794076e+09\n",
       "litecoin          litecoin    5.634498e+09\n",
       "bitcoin-gold  bitcoin-gold    4.920065e+09\n",
       "monero              monero    4.331688e+09\n",
       "cardano            cardano    3.231420e+09"
      ]
     },
     "execution_count": 61,
     "metadata": {},
     "output_type": "execute_result"
    }
   ],
   "source": [
    "cap10"
   ]
  },
  {
   "cell_type": "code",
   "execution_count": 72,
   "id": "c2115593",
   "metadata": {},
   "outputs": [],
   "source": [
    "# Calculating market_cap_perc\n",
    "cap10 = cap10.assign(perc = lambda x : (x.market_cap_usd / df.market_cap_usd.sum()) *100)"
   ]
  },
  {
   "cell_type": "code",
   "execution_count": 83,
   "id": "2dd6cc69",
   "metadata": {},
   "outputs": [
    {
     "data": {
      "text/html": [
       "<div>\n",
       "<style scoped>\n",
       "    .dataframe tbody tr th:only-of-type {\n",
       "        vertical-align: middle;\n",
       "    }\n",
       "\n",
       "    .dataframe tbody tr th {\n",
       "        vertical-align: top;\n",
       "    }\n",
       "\n",
       "    .dataframe thead th {\n",
       "        text-align: right;\n",
       "    }\n",
       "</style>\n",
       "<table border=\"1\" class=\"dataframe\">\n",
       "  <thead>\n",
       "    <tr style=\"text-align: right;\">\n",
       "      <th></th>\n",
       "      <th>id</th>\n",
       "      <th>market_cap_usd</th>\n",
       "      <th>perc</th>\n",
       "    </tr>\n",
       "    <tr>\n",
       "      <th>id</th>\n",
       "      <th></th>\n",
       "      <th></th>\n",
       "      <th></th>\n",
       "    </tr>\n",
       "  </thead>\n",
       "  <tbody>\n",
       "    <tr>\n",
       "      <th>bitcoin</th>\n",
       "      <td>bitcoin</td>\n",
       "      <td>2.130493e+11</td>\n",
       "      <td>56.918669</td>\n",
       "    </tr>\n",
       "    <tr>\n",
       "      <th>ethereum</th>\n",
       "      <td>ethereum</td>\n",
       "      <td>4.352945e+10</td>\n",
       "      <td>11.629410</td>\n",
       "    </tr>\n",
       "    <tr>\n",
       "      <th>bitcoin-cash</th>\n",
       "      <td>bitcoin-cash</td>\n",
       "      <td>2.529585e+10</td>\n",
       "      <td>6.758088</td>\n",
       "    </tr>\n",
       "    <tr>\n",
       "      <th>iota</th>\n",
       "      <td>iota</td>\n",
       "      <td>1.475225e+10</td>\n",
       "      <td>3.941238</td>\n",
       "    </tr>\n",
       "    <tr>\n",
       "      <th>ripple</th>\n",
       "      <td>ripple</td>\n",
       "      <td>9.365343e+09</td>\n",
       "      <td>2.502063</td>\n",
       "    </tr>\n",
       "    <tr>\n",
       "      <th>dash</th>\n",
       "      <td>dash</td>\n",
       "      <td>5.794076e+09</td>\n",
       "      <td>1.547956</td>\n",
       "    </tr>\n",
       "    <tr>\n",
       "      <th>litecoin</th>\n",
       "      <td>litecoin</td>\n",
       "      <td>5.634498e+09</td>\n",
       "      <td>1.505323</td>\n",
       "    </tr>\n",
       "    <tr>\n",
       "      <th>bitcoin-gold</th>\n",
       "      <td>bitcoin-gold</td>\n",
       "      <td>4.920065e+09</td>\n",
       "      <td>1.314454</td>\n",
       "    </tr>\n",
       "    <tr>\n",
       "      <th>monero</th>\n",
       "      <td>monero</td>\n",
       "      <td>4.331688e+09</td>\n",
       "      <td>1.157262</td>\n",
       "    </tr>\n",
       "    <tr>\n",
       "      <th>cardano</th>\n",
       "      <td>cardano</td>\n",
       "      <td>3.231420e+09</td>\n",
       "      <td>0.863312</td>\n",
       "    </tr>\n",
       "  </tbody>\n",
       "</table>\n",
       "</div>"
      ],
      "text/plain": [
       "                        id  market_cap_usd       perc\n",
       "id                                                   \n",
       "bitcoin            bitcoin    2.130493e+11  56.918669\n",
       "ethereum          ethereum    4.352945e+10  11.629410\n",
       "bitcoin-cash  bitcoin-cash    2.529585e+10   6.758088\n",
       "iota                  iota    1.475225e+10   3.941238\n",
       "ripple              ripple    9.365343e+09   2.502063\n",
       "dash                  dash    5.794076e+09   1.547956\n",
       "litecoin          litecoin    5.634498e+09   1.505323\n",
       "bitcoin-gold  bitcoin-gold    4.920065e+09   1.314454\n",
       "monero              monero    4.331688e+09   1.157262\n",
       "cardano            cardano    3.231420e+09   0.863312"
      ]
     },
     "execution_count": 83,
     "metadata": {},
     "output_type": "execute_result"
    }
   ],
   "source": [
    "cap10"
   ]
  },
  {
   "cell_type": "code",
   "execution_count": 77,
   "id": "72cd763b",
   "metadata": {},
   "outputs": [
    {
     "data": {
      "image/png": "[encoded data removed]",
      "text/plain": [
       "<Figure size 640x480 with 1 Axes>"
      ]
     },
     "metadata": {},
     "output_type": "display_data"
    }
   ],
   "source": [
    "# Plotting the barplot\n",
    "ax = cap10.plot.bar(x = 'id', y = 'perc',title='Top 10 Cap')\n",
    "ax.set_ylabel('% of total cap');"
   ]
  },
  {
   "cell_type": "markdown",
   "id": "969e7b08",
   "metadata": {},
   "source": [
    "Bitcoin is too big, and the other coins are hard to distinguish because of this. Instead of the percentage, let's use a log10 scale of the \"raw\" capitalization. Plus, let's use color to group similar coins and make the plot more informative"
   ]
  },
  {
   "cell_type": "code",
   "execution_count": 86,
   "id": "7adacabd",
   "metadata": {},
   "outputs": [
    {
     "data": {
      "image/png": "[encoded data removed]",
      "text/plain": [
       "<Figure size 640x480 with 1 Axes>"
      ]
     },
     "metadata": {},
     "output_type": "display_data"
    }
   ],
   "source": [
    "# Colors for the bar plot\n",
    "COLORS = ['orange', 'green', 'orange', 'cyan', 'cyan', 'blue', 'silver', 'orange', 'red', 'green']\n",
    "\n",
    "# Plotting market_cap_usd as before but adding the colors and scaling the y-axis  \n",
    "ax = cap10.plot.bar(x = 'id', y = 'market_cap_usd', logy = True, color = COLORS, title = 'Top 10 Cap')\n",
    "ax.set_ylabel('% of Cap');"
   ]
  },
  {
   "cell_type": "markdown",
   "id": "c56ef77f",
   "metadata": {},
   "source": [
    "# CryptoCurr Exchange History\n",
    "The cryptocurrencies market has been spectacularly volatile since the first exchange opened.Let's explore this volatility a bit more! We will begin by selecting and plotting the 24 hours and 7 days percentage change."
   ]
  },
  {
   "cell_type": "code",
   "execution_count": 90,
   "id": "6d9ae153",
   "metadata": {},
   "outputs": [
    {
     "data": {
      "text/html": [
       "<div>\n",
       "<style scoped>\n",
       "    .dataframe tbody tr th:only-of-type {\n",
       "        vertical-align: middle;\n",
       "    }\n",
       "\n",
       "    .dataframe tbody tr th {\n",
       "        vertical-align: top;\n",
       "    }\n",
       "\n",
       "    .dataframe thead th {\n",
       "        text-align: right;\n",
       "    }\n",
       "</style>\n",
       "<table border=\"1\" class=\"dataframe\">\n",
       "  <thead>\n",
       "    <tr style=\"text-align: right;\">\n",
       "      <th></th>\n",
       "      <th>percent_change_24h</th>\n",
       "      <th>percent_change_7d</th>\n",
       "    </tr>\n",
       "    <tr>\n",
       "      <th>id</th>\n",
       "      <th></th>\n",
       "      <th></th>\n",
       "    </tr>\n",
       "  </thead>\n",
       "  <tbody>\n",
       "    <tr>\n",
       "      <th>flappycoin</th>\n",
       "      <td>-95.85</td>\n",
       "      <td>-96.61</td>\n",
       "    </tr>\n",
       "    <tr>\n",
       "      <th>credence-coin</th>\n",
       "      <td>-94.22</td>\n",
       "      <td>-95.31</td>\n",
       "    </tr>\n",
       "    <tr>\n",
       "      <th>coupecoin</th>\n",
       "      <td>-93.93</td>\n",
       "      <td>-61.24</td>\n",
       "    </tr>\n",
       "    <tr>\n",
       "      <th>tyrocoin</th>\n",
       "      <td>-79.02</td>\n",
       "      <td>-87.43</td>\n",
       "    </tr>\n",
       "    <tr>\n",
       "      <th>petrodollar</th>\n",
       "      <td>-76.55</td>\n",
       "      <td>542.96</td>\n",
       "    </tr>\n",
       "  </tbody>\n",
       "</table>\n",
       "</div>"
      ],
      "text/plain": [
       "               percent_change_24h  percent_change_7d\n",
       "id                                                  \n",
       "flappycoin                 -95.85             -96.61\n",
       "credence-coin              -94.22             -95.31\n",
       "coupecoin                  -93.93             -61.24\n",
       "tyrocoin                   -79.02             -87.43\n",
       "petrodollar                -76.55             542.96"
      ]
     },
     "execution_count": 90,
     "metadata": {},
     "output_type": "execute_result"
    }
   ],
   "source": [
    "df2 = pd.read_csv(r\"C:\\Users\\karim\\Desktop\\coinmarketcap_06122017.csv\",index_col=0)\n",
    "# Selecting the id, percent_change_24h and percent_change_7d columns\n",
    "volatility = df2[['id', 'percent_change_24h', 'percent_change_7d']]\n",
    "\n",
    "# Setting the index to 'id' and dropping all NaN rows\n",
    "volatility = volatility.set_index('id').dropna()\n",
    "\n",
    "# Sorting the DataFrame by percent_change_24h in ascending order\n",
    "volatility = volatility.sort_values('percent_change_24h', ascending = True)\n",
    "volatility.head()"
   ]
  },
  {
   "cell_type": "markdown",
   "id": "af6768fd",
   "metadata": {},
   "source": [
    "Very dangerous Volatile market indeed.\n",
    "Let's plot the top 10 biggest gainers and top 10 losers in market capitalization."
   ]
  },
  {
   "cell_type": "code",
   "execution_count": 106,
   "id": "97ffb5d5",
   "metadata": {
    "scrolled": true
   },
   "outputs": [],
   "source": [
    "# Defining a function with 2 parameters, the series to plot and the title\n",
    "def top10_u_d (volatility , title):\n",
    "    # Making the subplot and the figure for two side by side plots\n",
    "    fig , axes = plt.subplots(nrows = 1 , ncols = 2 ,figsize=(10,6))\n",
    "    # Plotting top losers \n",
    "    ax = volatility[:10].plot.bar(color = 'darkred', ax = axes[0])\n",
    "    # Setting the figure's main title\n",
    "    fig.suptitle(title)\n",
    "    # Setting the ylabel to '% change'\n",
    "    ax.set_ylabel('% change')\n",
    "    # top 10 winners\n",
    "    ax = volatility[-10:].plot.bar(color = 'darkblue', ax = axes[1])\n",
    "    \n",
    "    return fig , ax "
   ]
  },
  {
   "cell_type": "code",
   "execution_count": 107,
   "id": "497ffbe0",
   "metadata": {},
   "outputs": [
    {
     "data": {
      "image/png": "[encoded data removed]",
      "text/plain": [
       "<Figure size 1000x600 with 2 Axes>"
      ]
     },
     "metadata": {},
     "output_type": "display_data"
    }
   ],
   "source": [
    "DTITLE = \"24 hours top losers and winners\"\n",
    "fig , ax = top10_u_d(volatility.percent_change_24h,DTITLE)  "
   ]
  },
  {
   "cell_type": "code",
   "execution_count": 108,
   "id": "473b9cdd",
   "metadata": {},
   "outputs": [
    {
     "data": {
      "image/png": "[encoded data removed]",
      "text/plain": [
       "<Figure size 1000x600 with 2 Axes>"
      ]
     },
     "metadata": {},
     "output_type": "display_data"
    }
   ],
   "source": [
    "volatility7d = volatility.sort_values('percent_change_7d', ascending = True)\n",
    "\n",
    "WTITLE = \"Weekly top losers and winners\"\n",
    "\n",
    "# Calling the top10_subplot function\n",
    "fig, ax = top10_u_d(volatility7d.percent_change_7d, WTITLE)"
   ]
  },
  {
   "cell_type": "markdown",
   "id": "54821f53",
   "metadata": {},
   "source": [
    "The names of the cryptocurrencies above are quite unknown, and there is a considerable fluctuation between the 1 and 7 days percentage changes. As with stocks, and many other financial products, the smaller the capitalization, the bigger the risk and reward. Smaller cryptocurrencies are less stable projects in general, and therefore even riskier investments than the bigger ones"
   ]
  },
  {
   "cell_type": "code",
   "execution_count": 111,
   "id": "b9c95f1b",
   "metadata": {},
   "outputs": [
    {
     "data": {
      "text/html": [
       "<div>\n",
       "<style scoped>\n",
       "    .dataframe tbody tr th:only-of-type {\n",
       "        vertical-align: middle;\n",
       "    }\n",
       "\n",
       "    .dataframe tbody tr th {\n",
       "        vertical-align: top;\n",
       "    }\n",
       "\n",
       "    .dataframe thead th {\n",
       "        text-align: right;\n",
       "    }\n",
       "</style>\n",
       "<table border=\"1\" class=\"dataframe\">\n",
       "  <thead>\n",
       "    <tr style=\"text-align: right;\">\n",
       "      <th></th>\n",
       "      <th>id</th>\n",
       "      <th>market_cap_usd</th>\n",
       "    </tr>\n",
       "  </thead>\n",
       "  <tbody>\n",
       "    <tr>\n",
       "      <th>0</th>\n",
       "      <td>bitcoin</td>\n",
       "      <td>2.130493e+11</td>\n",
       "    </tr>\n",
       "    <tr>\n",
       "      <th>1</th>\n",
       "      <td>ethereum</td>\n",
       "      <td>4.352945e+10</td>\n",
       "    </tr>\n",
       "    <tr>\n",
       "      <th>2</th>\n",
       "      <td>bitcoin-cash</td>\n",
       "      <td>2.529585e+10</td>\n",
       "    </tr>\n",
       "    <tr>\n",
       "      <th>3</th>\n",
       "      <td>iota</td>\n",
       "      <td>1.475225e+10</td>\n",
       "    </tr>\n",
       "  </tbody>\n",
       "</table>\n",
       "</div>"
      ],
      "text/plain": [
       "             id  market_cap_usd\n",
       "0       bitcoin    2.130493e+11\n",
       "1      ethereum    4.352945e+10\n",
       "2  bitcoin-cash    2.529585e+10\n",
       "3          iota    1.475225e+10"
      ]
     },
     "execution_count": 111,
     "metadata": {},
     "output_type": "execute_result"
    }
   ],
   "source": [
    "# Selecting everything bigger than 10 billion \n",
    "largecaps = df.query('market_cap_usd > 10000000000')\n",
    "largecaps"
   ]
  },
  {
   "cell_type": "code",
   "execution_count": null,
   "id": "e47587ce",
   "metadata": {},
   "outputs": [],
   "source": []
  }
 ],
 "metadata": {
  "kernelspec": {
   "display_name": "Python 3 (ipykernel)",
   "language": "python",
   "name": "python3"
  },
  "language_info": {
   "codemirror_mode": {
    "name": "ipython",
    "version": 3
   },
   "file_extension": ".py",
   "mimetype": "text/x-python",
   "name": "python",
   "nbconvert_exporter": "python",
   "pygments_lexer": "ipython3",
   "version": "3.11.5"
  }
 },
 "nbformat": 4,
 "nbformat_minor": 5
}
